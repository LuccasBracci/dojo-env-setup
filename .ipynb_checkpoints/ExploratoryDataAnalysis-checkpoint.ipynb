{
 "cells": [
  {
   "cell_type": "code",
   "execution_count": 18,
   "id": "52256032",
   "metadata": {},
   "outputs": [],
   "source": [
    "import pandas as pd\n",
    "\n",
    "pd.options.display.float_format = '${:,.0f}'.format"
   ]
  },
  {
   "cell_type": "code",
   "execution_count": 19,
   "id": "28d3a708",
   "metadata": {},
   "outputs": [],
   "source": [
    "file = \"Datasets/tmdb_results_combined.csv.gz\"\n",
    "concat_df = pd.read_csv(file, compression='gzip')"
   ]
  },
  {
   "cell_type": "code",
   "execution_count": 20,
   "id": "56afef3a",
   "metadata": {},
   "outputs": [
    {
     "name": "stdout",
     "output_type": "stream",
     "text": [
      "Number of movies with valid financial information: 844\n",
      "\n",
      "\n",
      "Number of movies in each certification category:\n",
      "R        146\n",
      "PG-13    117\n",
      "PG        31\n",
      "G         17\n",
      "NR         7\n",
      "Name: certification, dtype: int64\n",
      "\n",
      "\n",
      "Average revenue per certification category:\n",
      "certification\n",
      "G       $101,879,441\n",
      "NR       $22,122,566\n",
      "PG      $125,078,004\n",
      "PG-13   $111,101,802\n",
      "R        $51,087,405\n",
      "Name: revenue, dtype: float64\n",
      "\n",
      "\n",
      "Average budget per certification category:\n",
      "certification\n",
      "G       $33,654,767\n",
      "NR      $13,528,571\n",
      "PG      $50,362,814\n",
      "PG-13   $46,627,328\n",
      "R       $26,439,138\n",
      "Name: budget, dtype: float64\n"
     ]
    }
   ],
   "source": [
    "# Count movies with valid financial information\n",
    "valid_financial_info = concat_df[(concat_df['budget'] > 0) | (concat_df['revenue'] > 0)]\n",
    "num_movies_with_financial_info = len(valid_financial_info)\n",
    "\n",
    "print(\"Number of movies with valid financial information:\", num_movies_with_financial_info)\n",
    "\n",
    "# Exclude movies with 0 budget and revenue from the remaining visualizations\n",
    "valid_movies = concat_df[(concat_df['budget'] > 0) & (concat_df['revenue'] > 0)]\n",
    "\n",
    "# Count movies in each certification category\n",
    "certification_counts = valid_movies['certification'].value_counts()\n",
    "print(\"\\n\")\n",
    "print(\"Number of movies in each certification category:\")\n",
    "print(certification_counts)\n",
    "print(\"\\n\")\n",
    "\n",
    "# Calculate average revenue per certification category\n",
    "average_revenue_by_certification = valid_movies.groupby('certification')['revenue'].mean()\n",
    "print(\"Average revenue per certification category:\")\n",
    "print(average_revenue_by_certification)\n",
    "print(\"\\n\")\n",
    "\n",
    "# Calculate average budget per certification category\n",
    "average_budget_by_certification = valid_movies.groupby('certification')['budget'].mean()\n",
    "print(\"Average budget per certification category:\")\n",
    "print(average_budget_by_certification)"
   ]
  }
 ],
 "metadata": {
  "kernelspec": {
   "display_name": "dojo-env",
   "language": "python",
   "name": "dojo-env"
  },
  "language_info": {
   "codemirror_mode": {
    "name": "ipython",
    "version": 3
   },
   "file_extension": ".py",
   "mimetype": "text/x-python",
   "name": "python",
   "nbconvert_exporter": "python",
   "pygments_lexer": "ipython3",
   "version": "3.9.15"
  },
  "toc": {
   "base_numbering": 1,
   "nav_menu": {},
   "number_sections": false,
   "sideBar": true,
   "skip_h1_title": false,
   "title_cell": "Table of Contents",
   "title_sidebar": "Contents",
   "toc_cell": false,
   "toc_position": {},
   "toc_section_display": true,
   "toc_window_display": false
  }
 },
 "nbformat": 4,
 "nbformat_minor": 5
}
